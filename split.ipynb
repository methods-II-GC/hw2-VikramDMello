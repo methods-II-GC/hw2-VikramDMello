{
 "metadata": {
  "language_info": {
   "codemirror_mode": {
    "name": "ipython",
    "version": 3
   },
   "file_extension": ".py",
   "mimetype": "text/x-python",
   "name": "python",
   "nbconvert_exporter": "python",
   "pygments_lexer": "ipython3",
   "version": "3.9.2-final"
  },
  "orig_nbformat": 2,
  "kernelspec": {
   "name": "python3",
   "display_name": "Python 3.9.2 64-bit",
   "metadata": {
    "interpreter": {
     "hash": "aee8b7b246df8f9039afb4144a1f6fd8d2ca17a180786b69acc140d282b71a49"
    }
   }
  }
 },
 "nbformat": 4,
 "nbformat_minor": 2,
 "cells": [
  {
   "source": [
    "# HW2 Working Script"
   ],
   "cell_type": "markdown",
   "metadata": {}
  },
  {
   "source": [
    "## Step 1: Parsing"
   ],
   "cell_type": "markdown",
   "metadata": {}
  },
  {
   "cell_type": "code",
   "execution_count": null,
   "metadata": {},
   "outputs": [],
   "source": [
    "from typing import Iterator, List"
   ]
  },
  {
   "cell_type": "code",
   "execution_count": null,
   "metadata": {},
   "outputs": [],
   "source": [
    "source = []"
   ]
  },
  {
   "cell_type": "code",
   "execution_count": null,
   "metadata": {},
   "outputs": [],
   "source": [
    "def read_tags(path: str) -> Iterator[List[List[str]]]:\n",
    "    with open(path, \"r\") as source:\n",
    "        lines = []\n",
    "        for line in source:\n",
    "            line = line.rstrip()\n",
    "            if line:  # Line is contentful.\n",
    "                lines.append(line.split())\n",
    "            else:  # Line is blank.\n",
    "                yield lines.copy()\n",
    "                lines.clear()\n",
    "    # Just in case someone forgets to put a blank line at the end...\n",
    "    if lines:\n",
    "        yield lines"
   ]
  },
  {
   "cell_type": "code",
   "execution_count": null,
   "metadata": {},
   "outputs": [],
   "source": [
    "corpus = list(read_tags(\"conll2000.tag\"))"
   ]
  },
  {
   "cell_type": "code",
   "execution_count": null,
   "metadata": {},
   "outputs": [],
   "source": [
    "print(f'\\nOriginal input corpus consists of {len(corpus):,} sentences.\\n')"
   ]
  },
  {
   "cell_type": "code",
   "execution_count": null,
   "metadata": {},
   "outputs": [],
   "source": [
    "print(f'\\nFirst sentence is:\\n\\n{corpus[:1]}\\n')\n",
    "print(f'\\nAnd last sentence is:\\n\\n{corpus[-1]}\\n')"
   ]
  },
  {
   "cell_type": "code",
   "execution_count": 1,
   "metadata": {},
   "outputs": [],
   "source": [
    "import csv"
   ]
  },
  {
   "cell_type": "code",
   "execution_count": 6,
   "metadata": {},
   "outputs": [],
   "source": [
    "with open('conll2000.tag', 'r') as source:\n",
    "    reader = csv.reader(source)\n",
    "    data = []\n",
    "    data = list(csv.reader(source, delimiter='\\n'))\n"
   ]
  },
  {
   "cell_type": "code",
   "execution_count": 8,
   "metadata": {},
   "outputs": [
    {
     "output_type": "execute_result",
     "data": {
      "text/plain": [
       "270052"
      ]
     },
     "metadata": {},
     "execution_count": 8
    }
   ],
   "source": [
    "len(data)"
   ]
  },
  {
   "cell_type": "code",
   "execution_count": 7,
   "metadata": {},
   "outputs": [
    {
     "output_type": "execute_result",
     "data": {
      "text/plain": [
       "[['Confidence NN B-NP'],\n",
       " ['in IN B-PP'],\n",
       " ['the DT B-NP'],\n",
       " ['pound NN I-NP'],\n",
       " ['is VBZ B-VP'],\n",
       " ['widely RB I-VP'],\n",
       " ['expected VBN I-VP'],\n",
       " ['to TO I-VP'],\n",
       " ['take VB I-VP'],\n",
       " ['another DT B-NP'],\n",
       " ['sharp JJ I-NP'],\n",
       " ['dive NN I-NP'],\n",
       " ['if IN B-SBAR'],\n",
       " ['trade NN B-NP'],\n",
       " ['figures NNS I-NP'],\n",
       " ['for IN B-PP'],\n",
       " ['September NNP B-NP'],\n",
       " [', , O'],\n",
       " ['due JJ B-ADJP'],\n",
       " ['for IN B-PP'],\n",
       " ['release NN B-NP'],\n",
       " ['tomorrow NN B-NP'],\n",
       " [', , O'],\n",
       " ['fail VB B-VP'],\n",
       " ['to TO I-VP'],\n",
       " ['show VB I-VP'],\n",
       " ['a DT B-NP'],\n",
       " ['substantial JJ I-NP'],\n",
       " ['improvement NN I-NP'],\n",
       " ['from IN B-PP'],\n",
       " ['July NNP B-NP'],\n",
       " ['and CC I-NP'],\n",
       " ['August NNP I-NP'],\n",
       " [\"'s POS B-NP\"],\n",
       " ['near-record JJ I-NP'],\n",
       " ['deficits NNS I-NP'],\n",
       " ['. . O'],\n",
       " [],\n",
       " ['Chancellor NNP O'],\n",
       " ['of IN B-PP']]"
      ]
     },
     "metadata": {},
     "execution_count": 7
    }
   ],
   "source": [
    "data[:40]"
   ]
  },
  {
   "cell_type": "code",
   "execution_count": 9,
   "metadata": {},
   "outputs": [
    {
     "output_type": "error",
     "ename": "AttributeError",
     "evalue": "'list' object has no attribute 'split'",
     "traceback": [
      "\u001b[0;31m---------------------------------------------------------------------------\u001b[0m",
      "\u001b[0;31mAttributeError\u001b[0m                            Traceback (most recent call last)",
      "\u001b[0;32m<ipython-input-9-513b7dbeb1cd>\u001b[0m in \u001b[0;36m<module>\u001b[0;34m\u001b[0m\n\u001b[0;32m----> 1\u001b[0;31m \u001b[0mdata2\u001b[0m \u001b[0;34m=\u001b[0m \u001b[0mdata\u001b[0m\u001b[0;34m.\u001b[0m\u001b[0msplit\u001b[0m\u001b[0;34m(\u001b[0m\u001b[0;34m''\u001b[0m\u001b[0;34m)\u001b[0m\u001b[0;34m\u001b[0m\u001b[0;34m\u001b[0m\u001b[0m\n\u001b[0m",
      "\u001b[0;31mAttributeError\u001b[0m: 'list' object has no attribute 'split'"
     ]
    }
   ],
   "source": [
    "data2 = data.split('')"
   ]
  },
  {
   "cell_type": "code",
   "execution_count": null,
   "metadata": {},
   "outputs": [],
   "source": [
    "data2[:40]"
   ]
  },
  {
   "cell_type": "code",
   "execution_count": 12,
   "metadata": {},
   "outputs": [
    {
     "output_type": "execute_result",
     "data": {
      "text/plain": [
       "[['Confidence NN B-NP'],\n",
       " ['in IN B-PP'],\n",
       " ['the DT B-NP'],\n",
       " ['pound NN I-NP'],\n",
       " ['is VBZ B-VP'],\n",
       " ['widely RB I-VP'],\n",
       " ['expected VBN I-VP'],\n",
       " ['to TO I-VP'],\n",
       " ['take VB I-VP'],\n",
       " ['another DT B-NP'],\n",
       " ['sharp JJ I-NP'],\n",
       " ['dive NN I-NP'],\n",
       " ['if IN B-SBAR'],\n",
       " ['trade NN B-NP'],\n",
       " ['figures NNS I-NP'],\n",
       " ['for IN B-PP'],\n",
       " ['September NNP B-NP'],\n",
       " [', , O'],\n",
       " ['due JJ B-ADJP'],\n",
       " ['for IN B-PP'],\n",
       " ['release NN B-NP'],\n",
       " ['tomorrow NN B-NP'],\n",
       " [', , O'],\n",
       " ['fail VB B-VP'],\n",
       " ['to TO I-VP'],\n",
       " ['show VB I-VP'],\n",
       " ['a DT B-NP'],\n",
       " ['substantial JJ I-NP'],\n",
       " ['improvement NN I-NP'],\n",
       " ['from IN B-PP'],\n",
       " ['July NNP B-NP'],\n",
       " ['and CC I-NP'],\n",
       " ['August NNP I-NP'],\n",
       " [\"'s POS B-NP\"],\n",
       " ['near-record JJ I-NP'],\n",
       " ['deficits NNS I-NP'],\n",
       " ['. . O'],\n",
       " [],\n",
       " ['Chancellor NNP O'],\n",
       " ['of IN B-PP']]"
      ]
     },
     "metadata": {},
     "execution_count": 12
    }
   ],
   "source": [
    "MainList = data[:40]\n",
    "MainList"
   ]
  },
  {
   "cell_type": "code",
   "execution_count": 16,
   "metadata": {},
   "outputs": [
    {
     "output_type": "error",
     "ename": "IndexError",
     "evalue": "list index out of range",
     "traceback": [
      "\u001b[0;31m---------------------------------------------------------------------------\u001b[0m",
      "\u001b[0;31mIndexError\u001b[0m                                Traceback (most recent call last)",
      "\u001b[0;32m<ipython-input-16-d4aa579a8e3f>\u001b[0m in \u001b[0;36m<module>\u001b[0;34m\u001b[0m\n\u001b[1;32m      3\u001b[0m \u001b[0;32mfor\u001b[0m \u001b[0mitem\u001b[0m \u001b[0;32min\u001b[0m \u001b[0mMainList\u001b[0m\u001b[0;34m:\u001b[0m\u001b[0;34m\u001b[0m\u001b[0;34m\u001b[0m\u001b[0m\n\u001b[1;32m      4\u001b[0m     \u001b[0;32mif\u001b[0m \u001b[0mitem\u001b[0m \u001b[0;34m!=\u001b[0m \u001b[0msep\u001b[0m\u001b[0;34m:\u001b[0m\u001b[0;34m\u001b[0m\u001b[0;34m\u001b[0m\u001b[0m\n\u001b[0;32m----> 5\u001b[0;31m         \u001b[0mNewList\u001b[0m\u001b[0;34m[\u001b[0m\u001b[0;34m-\u001b[0m\u001b[0;36m1\u001b[0m\u001b[0;34m]\u001b[0m\u001b[0;34m.\u001b[0m\u001b[0mappend\u001b[0m\u001b[0;34m(\u001b[0m\u001b[0mitem\u001b[0m\u001b[0;34m)\u001b[0m\u001b[0;34m\u001b[0m\u001b[0;34m\u001b[0m\u001b[0m\n\u001b[0m\u001b[1;32m      6\u001b[0m     \u001b[0;32melse\u001b[0m\u001b[0;34m:\u001b[0m\u001b[0;34m\u001b[0m\u001b[0;34m\u001b[0m\u001b[0m\n\u001b[1;32m      7\u001b[0m         \u001b[0mNewList\u001b[0m\u001b[0;34m.\u001b[0m\u001b[0mappend\u001b[0m\u001b[0;34m(\u001b[0m\u001b[0;34m[\u001b[0m\u001b[0mitem\u001b[0m\u001b[0;34m]\u001b[0m\u001b[0;34m)\u001b[0m\u001b[0;34m\u001b[0m\u001b[0;34m\u001b[0m\u001b[0m\n",
      "\u001b[0;31mIndexError\u001b[0m: list index out of range"
     ]
    }
   ],
   "source": [
    "sep = ''\n",
    "NewList = []\n",
    "for item in MainList:\n",
    "    if item != sep:\n",
    "        NewList[-1].append(item)\n",
    "    else:\n",
    "        NewList.append([item])\n",
    "\n",
    "print(NewList)"
   ]
  },
  {
   "cell_type": "code",
   "execution_count": null,
   "metadata": {},
   "outputs": [],
   "source": []
  }
 ]
}